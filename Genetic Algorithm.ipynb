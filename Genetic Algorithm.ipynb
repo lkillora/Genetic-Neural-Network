{
 "cells": [
  {
   "cell_type": "markdown",
   "metadata": {
    "_cell_guid": "764fe135-c09e-9769-5794-500867154d93",
    "_uuid": "de6a1e240579227a8dd89aa213f6acfcf7d988b0"
   },
   "source": [
    "# <center>Genetic Algorithm</center>"
   ]
  },
  {
   "cell_type": "markdown",
   "metadata": {},
   "source": [
    "> ### A genetic algorithm class used to predict body fat percentages from body measurements."
   ]
  },
  {
   "cell_type": "markdown",
   "metadata": {},
   "source": [
    "## Premise:\n",
    "The core model is a simple neural network. It has *__p__* inputs (the same number of independent predictor variables), *__nf__* neurons in the first (and only) hidden layer, and one output. The intensity of the neurons is determined by a weighted sum of the *__p__* inputs. The magnitude of the ouput is determined as an **_equally_** weighted sum of those neuron intensities (i.e. each with weight 1/*__nf__*). This means the task of the algorithm is to find suitable weights from the inputs to the hidden layer alone to capture the complex relationships. \n",
    "\n",
    "Each running of the algorithm generates _**pop**_ members of a population. Each member is assigned a random set of weights, each in the range (-1,1). The quality of their predictions is measured by their fitness function, equal to 100 minus its mean quadratic error for all samples in the training set. Each member's weights are captured in binary form and collated into one long \"chromosome\". The fittest member then mates with all others in the population, producing progeny with chromosomes coming from their parents. More specifically each pair births two children. Each child's chromosome is a random mix of its parents' along with mutations to 5% of its bases (binary rather than the chemical quaternary of DNA). The childrens' chromosomes are then converted back to weights, with each one's fitness assessed. The fittest __*pop*__ children survive and become adults. Their elders all perish, reducing the population back to a size of *__p__*. Although, if their fittest elder is fitter than all the new adults, he/she will cheat death and become the fittest member of the population. The cycle then continues with each subsequent population producing usually fitter yet still diverse descendants. The cycle runs for a minimum number of runs. It concludes when predictions of the successors don't improve on their forebears', at which time the predictions are said to have plateued.       "
   ]
  },
  {
   "cell_type": "markdown",
   "metadata": {},
   "source": [
    "## Preparation"
   ]
  },
  {
   "cell_type": "markdown",
   "metadata": {},
   "source": [
    "### Imports"
   ]
  },
  {
   "cell_type": "code",
   "execution_count": 15,
   "metadata": {
    "_cell_guid": "3d458c15-e131-f3c4-f756-843d6454bb37",
    "_uuid": "76c68c2752f5c4a44660ccadda2168aaeca3930d"
   },
   "outputs": [],
   "source": [
    "import numpy as np\n",
    "import matplotlib.pyplot as plt\n",
    "from mpl_toolkits.mplot3d import Axes3D\n",
    "import pandas as pd\n",
    "import sklearn.preprocessing as skp\n",
    "from sklearn.model_selection import train_test_split\n",
    "import random as rand\n",
    "import operator\n",
    "import os\n",
    "import time\n",
    "import matplotlib.ticker as mtick\n",
    "import math"
   ]
  },
  {
   "cell_type": "markdown",
   "metadata": {
    "_cell_guid": "04681981-55ac-7820-a0ae-38f98c851c39",
    "_uuid": "1d1d3e8597d7e7805843de17d8514854ea5deaa3"
   },
   "source": [
    "### Dataset"
   ]
  },
  {
   "cell_type": "code",
   "execution_count": 17,
   "metadata": {},
   "outputs": [],
   "source": [
    "data=pd.read_csv(\"TrainingSet.csv\",header=0)\n",
    "Y = data[\"bodyfat\"]\n",
    "X = data[data.columns[:5]]\n",
    "x_train, x_test, y_train, y_test = train_test_split(X, Y, test_size=0.25)"
   ]
  },
  {
   "cell_type": "markdown",
   "metadata": {},
   "source": [
    "## Functions"
   ]
  },
  {
   "cell_type": "markdown",
   "metadata": {},
   "source": [
    "### Sigmoid Function for Vectors"
   ]
  },
  {
   "cell_type": "code",
   "execution_count": 18,
   "metadata": {},
   "outputs": [],
   "source": [
    "def sig(m):\n",
    "    return 1/(1+np.exp(-m))"
   ]
  },
  {
   "cell_type": "markdown",
   "metadata": {},
   "source": [
    "### FInding Fitness"
   ]
  },
  {
   "cell_type": "markdown",
   "metadata": {},
   "source": [
    "For each member, the hidden layer neurons have values equally to the sigmoid of the sums of the weighted inputs. The predictions are simply the equally weighting of these neuronal firing values. The error for each sample is the square of the difference between predicted and observed value. The fitness is the percentage discrepancy of 1 and the average of these errors. "
   ]
  },
  {
   "cell_type": "code",
   "execution_count": 19,
   "metadata": {},
   "outputs": [],
   "source": [
    "def fitness(x, y, weights):\n",
    "    nx = x.shape[0]\n",
    "    pop = weights.shape[0]\n",
    "    nf = weights.shape[2]\n",
    "    weighted_sums = np.zeros((pop,nx, nf))\n",
    "    y_hat = np.zeros((pop,nx))\n",
    "    fitness = np.zeros((pop,1))\n",
    "    error = np.zeros((pop,1))\n",
    "    for member in range(pop):\n",
    "        weighted_sums[member,:,:] = sig(x.dot(weights[member,:,:]))\n",
    "        #   nx x nf =  nx x p x p x nf\n",
    "        y_hat[member] = (1/nf)*sum(weighted_sums[member,:,:].transpose())\n",
    "        error[member] = sum((y_hat[member]-y)**2)/nx\n",
    "        fitness[member] = (1-error[member])*100\n",
    "    fitness = np.squeeze(fitness)\n",
    "    return fitness #(fitness,error,y_hat)"
   ]
  },
  {
   "cell_type": "markdown",
   "metadata": {},
   "source": [
    "### Finding Chromosomes from Weights or Vice Versa"
   ]
  },
  {
   "cell_type": "markdown",
   "metadata": {},
   "source": [
    "The genetic code for each member is attained as follows. First each weight is normalised to the range (0,1). Then multiplied by 1000 and rounded to integers. These are converted to binary notation using 10 binary characters. Each of these is then spliced to create one long chromosome."
   ]
  },
  {
   "cell_type": "code",
   "execution_count": 20,
   "metadata": {},
   "outputs": [],
   "source": [
    "def chromosomes(weights):\n",
    "    pop = weights.shape[0]\n",
    "    chromosomes = [\"\" for member in range(pop)]\n",
    "    for member in range(pop):\n",
    "        weights[member,:,:] = np.round(1000*skp.minmax_scale(weights[member,:,:].flatten()).reshape(weights.shape[1],weights.shape[2]),0)\n",
    "    weights = weights.astype(int)\n",
    "    for member in range(pop):\n",
    "        for w in weights[member,:,:].flatten():\n",
    "            chromosomes[member] += bin(w)[2:].zfill(10)\n",
    "    return chromosomes"
   ]
  },
  {
   "cell_type": "code",
   "execution_count": 21,
   "metadata": {},
   "outputs": [],
   "source": [
    "def chromosomes_to_weights(chromosomes, p, nf):\n",
    "    pop = len(chromosomes)\n",
    "    weights = [\"\" for r in range(pop)]\n",
    "    for member in range(pop):\n",
    "        weights[member] = [eval('0b'+chromosomes[member][i:i+10])/1000 for i in range(0, len(chromosomes[member]), 10)]\n",
    "    weights = np.array(weights).reshape((pop,p,nf))\n",
    "    for member in range(pop):\n",
    "        weights[member] = skp.minmax_scale(weights[member,:,:].flatten(), feature_range=(-1, 1)).reshape(p,nf)\n",
    "    return weights"
   ]
  },
  {
   "cell_type": "markdown",
   "metadata": {},
   "source": [
    "### Finding Children"
   ]
  },
  {
   "cell_type": "markdown",
   "metadata": {},
   "source": [
    "A crossover point is determined for each parent. Before this threshold are the bases of one parent. After it are the bases of the other. 5% of bases are then subjected to mutation (where their value is flipped)."
   ]
  },
  {
   "cell_type": "code",
   "execution_count": 22,
   "metadata": {},
   "outputs": [],
   "source": [
    "def children(fitness, chr_length, adults):\n",
    "    fittest = max(enumerate(fitness), key=operator.itemgetter(1))[0]\n",
    "    pop = fitness.shape[0]\n",
    "    cross_points = [r for r in range(-chr_length,chr_length) if r != 0]\n",
    "    nm = round(chr_length*0.05)\n",
    "    children = [\"\" for r in range((pop-1)*2)]\n",
    "    baby_no = 0\n",
    "    for member in [c for c in range(pop) if c != fittest]:\n",
    "        for i in range(2):\n",
    "            cut = rand.choice(cross_points)\n",
    "            if cut < 0:\n",
    "                zygote = adults[fittest][:cut] + adults[member][cut:] \n",
    "            else:\n",
    "                zygote = adults[fittest][cut:] + adults[member][:cut]\n",
    "            mutations = sorted(rand.sample(range(chr_length), nm), key=lambda x:x)\n",
    "            children[baby_no] = zygote[:mutations[0]]\n",
    "            for m in range(1,len(mutations)):\n",
    "                children[baby_no] += str((int(zygote[mutations[m-1]])+1)%2) + zygote[mutations[m-1]+1:mutations[m]] \n",
    "            children[baby_no] += str((int(zygote[mutations[nm-1]])+1)%2) + zygote[mutations[nm-1]+1:]\n",
    "            baby_no += 1\n",
    "    return children\n"
   ]
  },
  {
   "cell_type": "markdown",
   "metadata": {},
   "source": [
    "## Class"
   ]
  },
  {
   "cell_type": "code",
   "execution_count": 23,
   "metadata": {},
   "outputs": [],
   "source": [
    "class GeneticAlgo():  \n",
    "    \"\"\"\n",
    "    Genetic Algorithm Class\n",
    "    \"\"\"\n",
    "    \n",
    "    def __init__(self, no_functions = 10, population = 500, min_training_runs = 20, \n",
    "                 min_variance = 0.2, min_improvement = 0.005, comparison_size = 10):\n",
    "        self.nf = no_functions\n",
    "        self.pop = population\n",
    "        self.min_runs = min_training_runs\n",
    "        self.min_var = min_variance\n",
    "        self.min_imp = min_improvement\n",
    "        self.window = comparison_size\n",
    "        self.p = None\n",
    "        self.feature_range = None\n",
    "        self.top_fitness = None\n",
    "        self.top_fitness_chromosomes = None\n",
    "\n",
    "    def fit(self,X_train,Y_train):\n",
    "        start_time = time.time()\n",
    "        self.p = X_train.shape[1]\n",
    "        self.feature_range = (min(Y_train), max(Y_train))\n",
    "        X_train = skp.minmax_scale(X_train)\n",
    "        Y_train = skp.minmax_scale(Y_train)\n",
    "        \n",
    "        chromosome_length = 10*self.p*self.nf\n",
    "        weights = np.random.uniform(low=-1, high=1, size=(self.pop,self.p,self.nf))\n",
    "        fit_adult = fitness(X_train, Y_train, weights)\n",
    "        adult_pop = chromosomes(weights)\n",
    "        self.top_fitness, self.top_fitness_chromosomes = [], []\n",
    "        variance = 0\n",
    "        while(len(self.top_fitness) < self.min_runs or variance > self.min_var):\n",
    "            child_pop = children(fit_adult,chromosome_length, adult_pop)\n",
    "            weights = chromosomes_to_weights(child_pop, self.p, self.nf)\n",
    "            fit_child = fitness(X_train, Y_train, weights)\n",
    "        \n",
    "            top_adult, top_adult_fitness = max(enumerate(fit_adult), key=operator.itemgetter(1))\n",
    "            top_child_fitness = max(enumerate(fit_child), key=operator.itemgetter(1))[1]\n",
    "            if top_adult_fitness > top_child_fitness:\n",
    "                child_pop.append(adult_pop[top_adult])\n",
    "                # top adult defies death and becomes a child again\n",
    "                # at the expense of the worst child\n",
    "            \n",
    "            the_list = [i[0] for i in sorted(enumerate(fit_child.tolist()), key=lambda x:x[1])]\n",
    "            the_list = the_list[len(the_list)-self.pop:len(the_list)]\n",
    "            adult_pop = operator.itemgetter(*the_list)(child_pop)\n",
    "            # top population of children survive to become adults\n",
    "            weights = chromosomes_to_weights(adult_pop, self.p, self.nf)\n",
    "            fit_adult = fitness(X_train, Y_train, weights)\n",
    "               \n",
    "            self.top_fitness += [top_adult_fitness]\n",
    "            self.top_fitness_chromosomes += [adult_pop[top_adult]]\n",
    "        \n",
    "            if len(self.top_fitness) >= self.min_runs:\n",
    "                last_few = self.top_fitness[len(self.top_fitness)-self.window-1:len(self.top_fitness)-1]\n",
    "                variance = np.var(last_few)\n",
    "                if top_adult_fitness <= max(last_few)*self.min_imp:\n",
    "                    break\n",
    "        if top_adult_fitness <= max(last_few)*self.min_imp:\n",
    "            print(\"Reason for stopping: Fitness was not improving.\\n(Fitness: %s <= Minimum Fitness: %s)\\nRan %s times.\" \n",
    "                  % (top_adult_fitness,max(last_few)*self.min_imp,len(self.top_fitness)))\n",
    "        else:\n",
    "            print(\"Reason for stopping: Variance of predictions was too low.\\n(Variance: %s <= Minimum Variance: %s)\\nRan %s times.\" \n",
    "                  % (variance,max(last_few)*self.min_var,len(self.top_fitness)))\n",
    "    \n",
    "        print(\"Took %s minutes.\" % (round(time.time()*(1/60)-start_time*(1/60),1)))\n",
    "        \n",
    "    def predict(self,X_test_data,Y_test_data):\n",
    "        nx = X_test_data.shape[0]\n",
    "        X_test_data = skp.minmax_scale(X_test_data)\n",
    "        Y_test_data = skp.minmax_scale(Y_test_data)\n",
    "        best_genes = self.top_fitness_chromosomes[max(enumerate(self.top_fitness), key=operator.itemgetter(1))[0]]\n",
    "        w = [eval('0b'+best_genes[i:i+10])/1000 for i in range(0, len(best_genes), 10)]\n",
    "        w = skp.minmax_scale(np.array(w).flatten(), feature_range=(-1, 1)).reshape(self.p,self.nf)\n",
    "        weight_sums = np.zeros((nx, self.nf))\n",
    "        y_hat = np.zeros((nx,1))\n",
    "        weight_sums = sig(X_test_data.dot(w))\n",
    "        #   nx x nf =  nx x p x p x nf\n",
    "        y_hat = 0.2*sum(weight_sums.transpose())\n",
    "        error = sum((y_hat-Y_test_data)**2)/nx\n",
    "        fitness = (1-error)*100\n",
    "        y_hat = skp.minmax_scale(y_hat, feature_range=self.feature_range)\n",
    "        return (y_hat, fitness, error)\n",
    "    \n",
    "    def change_in_fitness(self,X_test_data,Y_test_data):\n",
    "        X_test_data = skp.minmax_scale(X_test_data)\n",
    "        Y_test_data = skp.minmax_scale(Y_test_data)\n",
    "        w = chromosomes_to_weights(self.top_fitness_chromosomes,self.p,self.nf)\n",
    "        f = fitness(X_test_data, Y_test_data, w)\n",
    "        return f"
   ]
  },
  {
   "cell_type": "markdown",
   "metadata": {},
   "source": [
    "### Dials\n",
    "**no\\_functions** = _**nf**_ \n",
    "\n",
    "**population** = _**pop**_ \n",
    "\n",
    "When fitting to the training set, the program runs for at least **min\\_training\\_runs**. After this, it compares the predictors from the last **comparison\\_size** fittest members of the population. If the variance of these predictions is below **min\\_variance**, or the latest fittest member is less than **min\\_improvement** percent fitter than his/her last **comparison\\_size** forebears, then the predictions have platueaued. The population is deemed sufficiently homogenous. As such, the fitting halts."
   ]
  },
  {
   "cell_type": "markdown",
   "metadata": {},
   "source": [
    "### Other Things of Note\n",
    "When fitting the program normalises the training data and scales its predictions back using scaling of the training set.\n",
    "For each run, the fitness values of the fittest in each generation is recorded, along with their chromosome. "
   ]
  },
  {
   "cell_type": "markdown",
   "metadata": {},
   "source": [
    "## Using the Genetic Class"
   ]
  },
  {
   "cell_type": "markdown",
   "metadata": {},
   "source": [
    "### Default values\n",
    "**no_functions** = 10, **population** = 500, **min_training_runs** = 20, \n",
    "**min_variance** = 0.2, **min_improvement** = 0.005, **comparison_size** = 10"
   ]
  },
  {
   "cell_type": "markdown",
   "metadata": {},
   "source": [
    "### Fitting"
   ]
  },
  {
   "cell_type": "code",
   "execution_count": 24,
   "metadata": {},
   "outputs": [
    {
     "name": "stdout",
     "output_type": "stream",
     "text": [
      "Reason for stopping: Variance of predictions was too low.\n",
      "(Variance: 0.0009268453436406764 <= Minimum Variance: 0.09809279559281928)\n",
      "Ran 100 times.\n",
      "Took 1.9 minutes.\n"
     ]
    }
   ],
   "source": [
    "genie = GeneticAlgo(min_training_runs = 100,  min_variance = 0.001, min_improvement = 0, )\n",
    "genie.fit(x_train,y_train)"
   ]
  },
  {
   "cell_type": "markdown",
   "metadata": {},
   "source": [
    "### Record Predictions"
   ]
  },
  {
   "cell_type": "code",
   "execution_count": 25,
   "metadata": {},
   "outputs": [],
   "source": [
    "predictions = genie.predict(x_test,y_test)"
   ]
  },
  {
   "cell_type": "markdown",
   "metadata": {},
   "source": [
    "### Scatterplot of Fitness by Generation (or Iteration)"
   ]
  },
  {
   "cell_type": "code",
   "execution_count": 26,
   "metadata": {},
   "outputs": [
    {
     "name": "stderr",
     "output_type": "stream",
     "text": [
      "C:\\Users\\Luke\\Anaconda3\\lib\\site-packages\\matplotlib\\cbook\\deprecation.py:106: MatplotlibDeprecationWarning: Adding an axes using the same arguments as a previous axes currently reuses the earlier instance.  In a future version, a new instance will always be created and returned.  Meanwhile, this warning can be suppressed, and the future behavior ensured, by passing a unique label to each axes instance.\n",
      "  warnings.warn(message, mplDeprecation, stacklevel=1)\n"
     ]
    },
    {
     "data": {
      "image/png": "[encoded data removed]",
      "text/plain": [
       "<matplotlib.figure.Figure at 0x2929412a1d0>"
      ]
     },
     "metadata": {},
     "output_type": "display_data"
    }
   ],
   "source": [
    "iteration = [i for i in range(len(genie.top_fitness))]\n",
    "fig = plt.figure()\n",
    "plt.plot(iteration, genie.top_fitness)\n",
    "fig.suptitle('Fitness in Training', fontsize=14)\n",
    "plt.xlabel('Generation / Iteration', fontsize=10)\n",
    "plt.ylabel('Fitness', fontsize=10)\n",
    "fmt = '%.1f%%' # Format you want the ticks, e.g. '40%'\n",
    "yticks = mtick.FormatStrFormatter(fmt)\n",
    "ax = fig.add_subplot(1,1,1)\n",
    "ax.yaxis.set_major_formatter(yticks)\n",
    "xint = range(min(iteration), math.ceil(max(iteration))+1, 10)\n",
    "plt.xticks(xint)\n",
    "plt.show()"
   ]
  },
  {
   "cell_type": "markdown",
   "metadata": {},
   "source": [
    "### 3D Scatterplot\n",
    "It shows how body fat percentages change with height and weight. It also compared these observations with what the model predicted."
   ]
  },
  {
   "cell_type": "code",
   "execution_count": 27,
   "metadata": {},
   "outputs": [
    {
     "data": {
      "image/png": "[encoded data removed]",
      "text/plain": [
       "<matplotlib.figure.Figure at 0x2929412a438>"
      ]
     },
     "metadata": {},
     "output_type": "display_data"
    }
   ],
   "source": [
    "fig = plt.figure()\n",
    "fig.suptitle('Observed and Predicted Body Fat Percentages', fontsize=14)\n",
    "ax = plt.subplot(111, projection='3d')\n",
    "ax.scatter(x_test[x_test.columns[0]], x_test[x_test.columns[1]], predictions[0],color=\"blue\",label=\"predicted\")\n",
    "ax.scatter(x_test[x_test.columns[0]], x_test[x_test.columns[1]], y_test,color=\"red\",label=\"observed\")\n",
    "#ax.scatter(x_test[x_test.columns[0]].tolist(), x_test[x_test.columns[1]].tolist(), predictions[0].tolist())\n",
    "ax.set_zlabel('Bodyfat', fontsize=10)\n",
    "ax.set_xlabel('Weight (pounds)', fontsize=10)\n",
    "ax.set_ylabel('Height (inches)', fontsize=10)\n",
    "fmt = '%.0f%%' # Format you want the ticks, e.g. '40%'\n",
    "zticks = mtick.FormatStrFormatter(fmt)\n",
    "ax.zaxis.set_major_formatter(zticks)\n",
    "plt.legend(loc = 'upper left')\n",
    "plt.show()"
   ]
  },
  {
   "cell_type": "code",
   "execution_count": 28,
   "metadata": {},
   "outputs": [
    {
     "name": "stdout",
     "output_type": "stream",
     "text": [
      "Overall average squared error on the test data is 56.0, so roughly 7.48 cm off on each prediction.\n"
     ]
    }
   ],
   "source": [
    "print(\"Overall average squared error on the test data is %s, so roughly %s cm off on each prediction.\" % (round(sum((y_test-predictions[0])**2)/predictions[0].shape[0],2),round((sum((y_test-predictions[0])**2)/predictions[0].shape[0])**(0.5),2)))"
   ]
  }
 ],
 "metadata": {
  "_change_revision": 0,
  "_is_fork": false,
  "kernelspec": {
   "display_name": "Python 3",
   "language": "python",
   "name": "python3"
  },
  "language_info": {
   "codemirror_mode": {
    "name": "ipython",
    "version": 3
   },
   "file_extension": ".py",
   "mimetype": "text/x-python",
   "name": "python",
   "nbconvert_exporter": "python",
   "pygments_lexer": "ipython3",
   "version": "3.6.4"
  }
 },
 "nbformat": 4,
 "nbformat_minor": 1
}
